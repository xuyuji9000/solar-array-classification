{
 "cells": [
  {
   "cell_type": "code",
   "execution_count": 1,
   "metadata": {
    "collapsed": false
   },
   "outputs": [
    {
     "name": "stdout",
     "output_type": "stream",
     "text": [
      "Automatically created module for IPython interactive environment\n"
     ]
    }
   ],
   "source": [
    "%matplotlib inline\n",
    "print(__doc__)\n",
    "import glob, re, csv\n",
    "import numpy as np\n",
    "from scipy import ndimage\n",
    "# from sklearn.grid_search import GridSearchCV\n",
    "# from sklearn.cross_validation import train_test_split\n",
    "# from sklearn.svm import SVC\n",
    "# from sklearn.metrics import classification_report\n",
    "# from sklearn.metrics import confusion_matrix\n",
    "# from sklearn.decomposition import RandomizedPCA"
   ]
  },
  {
   "cell_type": "code",
   "execution_count": 3,
   "metadata": {
    "collapsed": false
   },
   "outputs": [
    {
     "ename": "ValueError",
     "evalue": "total size of new array must be unchanged",
     "output_type": "error",
     "traceback": [
      "\u001b[1;31m---------------------------------------------------------------------------\u001b[0m",
      "\u001b[1;31mValueError\u001b[0m                                Traceback (most recent call last)",
      "\u001b[1;32m<ipython-input-3-9fe0cbe1249f>\u001b[0m in \u001b[0;36m<module>\u001b[1;34m()\u001b[0m\n\u001b[0;32m     92\u001b[0m         \u001b[0mf\u001b[0m\u001b[1;33m.\u001b[0m\u001b[0mclose\u001b[0m\u001b[1;33m(\u001b[0m\u001b[1;33m)\u001b[0m\u001b[1;33m\u001b[0m\u001b[0m\n\u001b[0;32m     93\u001b[0m \u001b[0msa\u001b[0m \u001b[1;33m=\u001b[0m \u001b[0mSolarArray\u001b[0m\u001b[1;33m(\u001b[0m\u001b[1;33m)\u001b[0m\u001b[1;33m\u001b[0m\u001b[0m\n\u001b[1;32m---> 94\u001b[1;33m \u001b[0msa\u001b[0m\u001b[1;33m.\u001b[0m\u001b[0mread_resource\u001b[0m\u001b[1;33m(\u001b[0m\u001b[1;33m)\u001b[0m\u001b[1;33m\u001b[0m\u001b[0m\n\u001b[0m\u001b[0;32m     95\u001b[0m \u001b[1;33m\u001b[0m\u001b[0m\n\u001b[0;32m     96\u001b[0m \u001b[0msa\u001b[0m\u001b[1;33m.\u001b[0m\u001b[0mX\u001b[0m\u001b[1;33m.\u001b[0m\u001b[0mshape\u001b[0m\u001b[1;33m\u001b[0m\u001b[0m\n",
      "\u001b[1;32m<ipython-input-3-9fe0cbe1249f>\u001b[0m in \u001b[0;36mread_resource\u001b[1;34m(self)\u001b[0m\n\u001b[0;32m     16\u001b[0m \u001b[1;33m\u001b[0m\u001b[0m\n\u001b[0;32m     17\u001b[0m     \u001b[1;32mdef\u001b[0m \u001b[0mread_resource\u001b[0m\u001b[1;33m(\u001b[0m\u001b[0mself\u001b[0m\u001b[1;33m)\u001b[0m\u001b[1;33m:\u001b[0m\u001b[1;33m\u001b[0m\u001b[0m\n\u001b[1;32m---> 18\u001b[1;33m         \u001b[0mself\u001b[0m\u001b[1;33m.\u001b[0m\u001b[0mget_X\u001b[0m\u001b[1;33m(\u001b[0m\u001b[1;33m)\u001b[0m\u001b[1;33m;\u001b[0m\u001b[1;33m\u001b[0m\u001b[0m\n\u001b[0m\u001b[0;32m     19\u001b[0m         \u001b[0mself\u001b[0m\u001b[1;33m.\u001b[0m\u001b[0mget_X_target\u001b[0m\u001b[1;33m(\u001b[0m\u001b[1;33m)\u001b[0m\u001b[1;33m;\u001b[0m\u001b[1;33m\u001b[0m\u001b[0m\n\u001b[0;32m     20\u001b[0m         \u001b[0mself\u001b[0m\u001b[1;33m.\u001b[0m\u001b[0mget_y\u001b[0m\u001b[1;33m(\u001b[0m\u001b[1;33m)\u001b[0m\u001b[1;33m;\u001b[0m\u001b[1;33m\u001b[0m\u001b[0m\n",
      "\u001b[1;32m<ipython-input-3-9fe0cbe1249f>\u001b[0m in \u001b[0;36mget_X\u001b[1;34m(self)\u001b[0m\n\u001b[0;32m     21\u001b[0m \u001b[1;33m\u001b[0m\u001b[0m\n\u001b[0;32m     22\u001b[0m     \u001b[1;32mdef\u001b[0m \u001b[0mget_X\u001b[0m\u001b[1;33m(\u001b[0m\u001b[0mself\u001b[0m\u001b[1;33m)\u001b[0m\u001b[1;33m:\u001b[0m\u001b[1;33m\u001b[0m\u001b[0m\n\u001b[1;32m---> 23\u001b[1;33m         \u001b[0mself\u001b[0m\u001b[1;33m.\u001b[0m\u001b[0mX\u001b[0m \u001b[1;33m=\u001b[0m \u001b[0mself\u001b[0m\u001b[1;33m.\u001b[0m\u001b[0mget_row_pic\u001b[0m\u001b[1;33m(\u001b[0m\u001b[0mself\u001b[0m\u001b[1;33m.\u001b[0m\u001b[0mX_path\u001b[0m\u001b[1;33m)\u001b[0m\u001b[1;33m\u001b[0m\u001b[0m\n\u001b[0m\u001b[0;32m     24\u001b[0m \u001b[1;33m\u001b[0m\u001b[0m\n\u001b[0;32m     25\u001b[0m     \u001b[1;32mdef\u001b[0m \u001b[0mget_X_target\u001b[0m\u001b[1;33m(\u001b[0m\u001b[0mself\u001b[0m\u001b[1;33m)\u001b[0m\u001b[1;33m:\u001b[0m\u001b[1;33m\u001b[0m\u001b[0m\n",
      "\u001b[1;32m<ipython-input-3-9fe0cbe1249f>\u001b[0m in \u001b[0;36mget_row_pic\u001b[1;34m(self, pic_path, gray)\u001b[0m\n\u001b[0;32m     49\u001b[0m         \u001b[0mnsamples\u001b[0m \u001b[1;33m=\u001b[0m \u001b[0mlen\u001b[0m\u001b[1;33m(\u001b[0m\u001b[0mpics\u001b[0m\u001b[1;33m)\u001b[0m\u001b[1;33m\u001b[0m\u001b[0m\n\u001b[0;32m     50\u001b[0m \u001b[1;33m\u001b[0m\u001b[0m\n\u001b[1;32m---> 51\u001b[1;33m         \u001b[0mrow_pics\u001b[0m \u001b[1;33m=\u001b[0m \u001b[0mpics\u001b[0m\u001b[1;33m.\u001b[0m\u001b[0mreshape\u001b[0m\u001b[1;33m(\u001b[0m\u001b[1;33m(\u001b[0m\u001b[0mnsamples\u001b[0m\u001b[1;33m,\u001b[0m \u001b[1;33m-\u001b[0m\u001b[1;36m1\u001b[0m\u001b[1;33m)\u001b[0m\u001b[1;33m)\u001b[0m    \u001b[1;31m# pic serialized data\u001b[0m\u001b[1;33m\u001b[0m\u001b[0m\n\u001b[0m\u001b[0;32m     52\u001b[0m         \u001b[1;32mreturn\u001b[0m \u001b[0mrow_pics\u001b[0m\u001b[1;33m\u001b[0m\u001b[0m\n\u001b[0;32m     53\u001b[0m \u001b[1;33m\u001b[0m\u001b[0m\n",
      "\u001b[1;31mValueError\u001b[0m: total size of new array must be unchanged"
     ]
    }
   ],
   "source": [
    "class SolarArray:\n",
    "    \"\"\"solar array detection\"\"\"\n",
    "    \n",
    "    X_path = \"./data/train_images/*.tif\"   # training pic path\n",
    "    target_path = \"./data/test_images/*.tif\"    # testing pic path\n",
    "    y_path = \"./data/train_solution.csv\"    # training solution path\n",
    "    export_path = \"./data/solar_array0.3.csv\"    # path to export \n",
    "    \n",
    "    X = \"\"    # training pic in row\n",
    "    X_target = \"\"    # testing pic in row\n",
    "    y = \"\"    # traing pic solution\n",
    "\n",
    "    \n",
    "    def __init__(self):\n",
    "        \"\"\"init the class\"\"\"\n",
    "        \n",
    "    def read_resource(self):\n",
    "        self.get_X();\n",
    "        self.get_X_target();\n",
    "        self.get_y();\n",
    "    \n",
    "    def get_X(self):\n",
    "        self.X = self.get_row_pic(self.X_path)\n",
    "    \n",
    "    def get_X_target(self):\n",
    "        self.X_target = self.get_row_pic(self.target_path)\n",
    "    \n",
    "    def get_y(self):\n",
    "        self.y = self.read_solution(self.y_path)\n",
    "    \n",
    "    def get_row_pic(self, pic_path, gray=True):\n",
    "        \"\"\"get rowed pic data\"\"\"\n",
    "        pic_paths = []  # pic path\n",
    "        for pic in glob.glob(pic_path):\n",
    "            pic_paths.append(pic)\n",
    "            \n",
    "        pic_paths.sort(self.sort_path)\n",
    "\n",
    "        pics = []     # read raw pic data\n",
    "        for pic in pic_paths:\n",
    "            if gray:\n",
    "                temp = ndimage.imread(pic, mode=\"L\")\n",
    "            else:\n",
    "                temp = ndimage.imread(pic)\n",
    "            \n",
    "            pics.append(temp)\n",
    "\n",
    "        pics = np.array(pics)    # convert list to numpy array\n",
    "        nsamples = len(pics)\n",
    "\n",
    "        row_pics = pics.reshape((nsamples, -1))    # pic serialized data\n",
    "        return row_pics\n",
    "    \n",
    "    def sort_path(self, path1, path2):\n",
    "        \"\"\"sort the pic paths, make them in increase queue\"\"\"\n",
    "        pattern = re.compile(r\"\\d+\")\n",
    "        num1 = int(pattern.search(path1).group())\n",
    "        num2 = int(pattern.search(path2).group())\n",
    "        return cmp(num1, num2)\n",
    "    \n",
    "    def read_solution(self, csv_path):\n",
    "        \"\"\"read csv file into dict\"\"\"\n",
    "        csvfile = open(csv_path)\n",
    "        reader = csv.reader(csvfile)\n",
    "        headers = reader.next()\n",
    "\n",
    "        column = {}\n",
    "        for h in headers:\n",
    "            column[h] = []\n",
    "\n",
    "\n",
    "        for row in reader:\n",
    "            for h, v in zip(headers, row):\n",
    "                column[h].append(v)\n",
    "\n",
    "        for k,v in column.items():\n",
    "            column[k] = np.array(v)\n",
    "        result = column['class']\n",
    "        return result\n",
    "    \n",
    "    def write_csv(self, prediction):\n",
    "        \"\"\"write the prediction into csv file,\n",
    "            for KAGGLE SUBMISSION\n",
    "        \"\"\"\n",
    "        # write into csv\n",
    "        f = open(self.export_path, \"w\")\n",
    "        writer = csv.writer(f)\n",
    "\n",
    "        writer.writerow((\"id\", \"class\"))\n",
    "        for i in range(len(prediction)):\n",
    "            writer.writerow((201+i, prediction[i]))\n",
    "        f.close()\n",
    "sa = SolarArray()\n",
    "sa.read_resource()\n",
    "\n",
    "sa.X.shape"
   ]
  }
 ],
 "metadata": {
  "kernelspec": {
   "display_name": "Python 2",
   "language": "python",
   "name": "python2"
  },
  "language_info": {
   "codemirror_mode": {
    "name": "ipython",
    "version": 2
   },
   "file_extension": ".py",
   "mimetype": "text/x-python",
   "name": "python",
   "nbconvert_exporter": "python",
   "pygments_lexer": "ipython2",
   "version": "2.7.6"
  }
 },
 "nbformat": 4,
 "nbformat_minor": 0
}
