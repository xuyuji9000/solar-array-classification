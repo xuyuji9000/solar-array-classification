{
 "cells": [
  {
   "cell_type": "code",
   "execution_count": 37,
   "metadata": {
    "collapsed": false
   },
   "outputs": [
    {
     "name": "stdout",
     "output_type": "stream",
     "text": [
      "Automatically created module for IPython interactive environment\n"
     ]
    }
   ],
   "source": [
    "%matplotlib inline\n",
    "print(__doc__)\n",
    "import os\n",
    "import glob\n",
    "import csv\n",
    "import linecache\n",
    "import matplotlib.pyplot as plt\n",
    "import matplotlib.image as mpimg\n",
    "from skimage import measure, color\n",
    "from scipy import ndimage\n",
    "# from solar.DrawContour import *"
   ]
  },
  {
   "cell_type": "code",
   "execution_count": 38,
   "metadata": {
    "collapsed": false
   },
   "outputs": [],
   "source": [
    "# class SolarArrayManipulation:\n",
    "#     X_train_path = \"./data/train_images/\"   # training pic path\n",
    "#     y_train_path = \"./data/train_solution.csv\"    # training solution path\n",
    "    \n",
    "#     def get_pictures_number(self, solar = 0):\n",
    "#         \"\"\"\n",
    "#             solar: 0 - all, 1 - solar array, 2 - no solar array\n",
    "#         \"\"\"\n",
    "#         assert solar in [0, 1, 2]    \n",
    "#         return len(self.get_index_list(solar))\n",
    "        \n",
    "#     def get_index_list(self, solar = 0):\n",
    "#         \"\"\"get pictures' index list, with / without solar\n",
    "#             solar: 0 - all, 1 - solar array, 2 - no solar array\n",
    "#         \"\"\"\n",
    "#         assert solar in [0, 1, 2]  \n",
    "                \n",
    "#         reader = csv.reader(open(self.y_train_path))\n",
    "#         reader.next()\n",
    "#         index_list = []\n",
    "#         for row in reader:\n",
    "#             if 0 == solar:\n",
    "#                 index_list.append(int(row[0]))\n",
    "#             elif 1 == solar:\n",
    "#                 if int(row[1]) == 1:\n",
    "#                     index_list.append(int(row[0]))\n",
    "#             else:  # solar == 2\n",
    "#                 if int(row[1]) == 0:\n",
    "#                     index_list.append(int(row[0]))\n",
    "#         return index_list\n",
    "        \n",
    "#     def is_solar(self, index):\n",
    "#         \"\"\"check does picture with current index has solar array\"\"\"\n",
    "#         line = linecache.getline(self.y_train_path,index+1)\n",
    "#         line_list = line.split(',')\n",
    "#         flag = False\n",
    "#         if 1 == int(line_list[1]):\n",
    "#             flag = True\n",
    "#         return flag\n",
    "\n",
    "def get_img(index):\n",
    "    \"\"\"get path from index\"\"\"\n",
    "    path = \"./data/train_images/image\"+str(index)+\".tif\"\n",
    "    return mpimg.imread(path)\n",
    "\n",
    "# img_list = map(get_img, [3,2,4,5,6,7])\n",
    "\n",
    "# DrawContour(contour_parameter=0.5).plot(img_list)"
   ]
  },
  {
   "cell_type": "code",
   "execution_count": 39,
   "metadata": {
    "collapsed": false,
    "scrolled": false
   },
   "outputs": [],
   "source": [
    "# class DrawRectangle(object):\n",
    "\n",
    "#     def __init__(self, sigma):\n",
    "#         self.sigma = sigma\n",
    "\n",
    "#     def plot_rectangle(self, ax, rectangle, sigma):\n",
    "#         ax.plot(feature.canny(rectangle, sigma))\n",
    "\n",
    "#     def imshow(self, ax, img, **kwargs):\n",
    "#         ax.imshow(img, **kwargs)\n",
    "#         ax.axis('image')\n",
    "#         ax.set_xticks([])\n",
    "#         ax.set_yticks([])\n",
    "\n",
    "#     def plot_pair(self, plot, original_image):\n",
    "#         grey_image = color.rgb2gray(original_image)\n",
    "#         rectangle = feature.canny(grey_image, self.sigma)\n",
    "#         self.imshow(plot[1], original_image)\n",
    "\n",
    "#         self.plot_rectangle(plot[0], rectangle, self.sigma)\n",
    "#         # TRICK: plt draw some strange color with gray image , we need to force gray rendering\n",
    "#         self.imshow(plot[0], rectangle, cmap=plt.cm.gray)\n",
    "\n",
    "#     def plot(self, img_list):\n",
    "#         fig, ax = plt.subplots(2, len(img_list), figsize=(18, 6))\n",
    "#         ax = map(list, zip(*ax))  # INFO: transpose 2d array\n",
    "#         for i, img in enumerate(img_list):\n",
    "#             self.plot_pair(ax[i], img)\n",
    "#         plt.show()\n",
    "#         return ax\n",
    "# img_list = map(get_img, [3,2,4,5,6,7])\n",
    "\n",
    "# DrawRectangle(sigma=0.5).plot(img_list)"
   ]
  }
 ],
 "metadata": {
  "kernelspec": {
   "display_name": "Python 2",
   "language": "python",
   "name": "python2"
  },
  "language_info": {
   "codemirror_mode": {
    "name": "ipython",
    "version": 2
   },
   "file_extension": ".py",
   "mimetype": "text/x-python",
   "name": "python",
   "nbconvert_exporter": "python",
   "pygments_lexer": "ipython2",
   "version": "2.7.6"
  }
 },
 "nbformat": 4,
 "nbformat_minor": 0
}
