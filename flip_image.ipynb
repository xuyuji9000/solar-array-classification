{
 "cells": [
  {
   "cell_type": "code",
   "execution_count": 23,
   "metadata": {
    "collapsed": false
   },
   "outputs": [
    {
     "name": "stdout",
     "output_type": "stream",
     "text": [
      "Automatically created module for IPython interactive environment\n"
     ]
    }
   ],
   "source": [
    "%matplotlib inline\n",
    "print(__doc__)\n",
    "from PIL import Image\n",
    "import glob\n",
    "import re\n",
    "import os\n",
    "import csv"
   ]
  },
  {
   "cell_type": "code",
   "execution_count": 24,
   "metadata": {
    "collapsed": true
   },
   "outputs": [],
   "source": [
    "class Flip:\n",
    "    \"\"\"flip the image to TRIPLE the images\"\"\"\n",
    "    X_rotate_path = \"./data/rotate_images/\"    # rotated images path\n",
    "    y_rotate_path = \"./data/train_rotate_solution.csv\"    # rotated solution path\n",
    "    \n",
    "    X_flip_path = \"./data/flip_images/\"   # flip pic path\n",
    "    y_flip_path = \"./data/train_flip_solution.csv\"    # flip solution path\n",
    "    \n",
    "    \n",
    "    def flip(self, X_flip_path, y_flip_path, X_rotate_path, y_rotate_path):\n",
    "        self.flip_image(X_flip_path, X_rotate_path)\n",
    "        self.add_flip_solution(y_flip_path, y_rotate_path)\n",
    "        \n",
    "    def flip_image(self, X_flip_path, X_rotate_path):\n",
    "        \"\"\"flip the images and store\"\"\"\n",
    "        if(not os.path.exists(X_flip_path)):\n",
    "            os.makedirs(X_flip_path)\n",
    "        pic_paths = self.get_pic_paths(X_rotate_path+\"*.tif\")\n",
    "        flip_folder = X_flip_path.split('/')[2]\n",
    "        for path in pic_paths:\n",
    "            img = Image.open(path)\n",
    "            path = path.split('/')\n",
    "            path[2] = flip_folder\n",
    "            path = '/'.join(path)\n",
    "            \n",
    "            number = int(self.get_number(path))\n",
    "            \n",
    "            temp_flip_path = self.change_number(path, number*2-1)\n",
    "            img.save(temp_flip_path)\n",
    "            \n",
    "            temp_flip_path = self.change_number(path, number*2)\n",
    "            img = img.transpose(Image.FLIP_LEFT_RIGHT)\n",
    "            img.save(temp_flip_path)\n",
    "        \n",
    "    def add_flip_solution(self, y_flip_path, y_rotate_path):\n",
    "        \"\"\"add flipped pics responding solution\"\"\"\n",
    "        csvfile = open(y_rotate_path)\n",
    "        reader = csv.reader(csvfile)\n",
    "        headers = reader.next()\n",
    "        \n",
    "        flip_list  = []\n",
    "        \n",
    "        for row in reader:\n",
    "            index = int(row[0])\n",
    "            for i in range(index*2 - 1, index*2 + 1): # add extra solutions\n",
    "                flip_row = [i, row[1]]\n",
    "                flip_list.append(flip_row)\n",
    "                \n",
    "        with open(y_flip_path, 'w+') as flip_csvfile:\n",
    "            writer = csv.DictWriter(flip_csvfile, fieldnames=headers)\n",
    "            writer.writeheader()\n",
    "            for row in flip_list:\n",
    "                temp = dict(zip(headers, row))\n",
    "                writer.writerow(temp)\n",
    "        \n",
    "    def get_pic_paths(self, X_path):\n",
    "        \"\"\"get pic paths of the target path\"\"\"\n",
    "        pic_paths = []  # pic path\n",
    "        for pic in glob.glob(X_path):\n",
    "            pic_paths.append(pic)\n",
    "            \n",
    "        pic_paths.sort(self.sort_path)\n",
    "        return pic_paths\n",
    "    \n",
    "    def get_number(self, path):\n",
    "        \"\"\"get number from a string\"\"\"\n",
    "        pattern = re.compile(r\"\\d+\")\n",
    "        num = int(pattern.search(path).group())\n",
    "        return num\n",
    "    \n",
    "    def change_number(self, path, number):\n",
    "        \"\"\"change the number inside the string\"\"\"\n",
    "        return re.sub(r'\\d+', str(number), path)\n",
    "    \n",
    "    def sort_path(self, path1, path2):\n",
    "        \"\"\"sort the pic paths, make them in increase queue\"\"\"\n",
    "        num1 = self.get_number(path1)\n",
    "        num2 = self.get_number(path2)\n",
    "        return cmp(num1, num2)"
   ]
  },
  {
   "cell_type": "code",
   "execution_count": 25,
   "metadata": {
    "collapsed": false
   },
   "outputs": [],
   "source": [
    "fp = Flip()\n",
    "\n",
    "# flip\n",
    "fp.flip( fp.X_flip_path, fp.y_flip_path, fp.X_rotate_path, fp.y_rotate_path)"
   ]
  }
 ],
 "metadata": {
  "kernelspec": {
   "display_name": "Python 2",
   "language": "python",
   "name": "python2"
  },
  "language_info": {
   "codemirror_mode": {
    "name": "ipython",
    "version": 2
   },
   "file_extension": ".py",
   "mimetype": "text/x-python",
   "name": "python",
   "nbconvert_exporter": "python",
   "pygments_lexer": "ipython2",
   "version": "2.7.6"
  }
 },
 "nbformat": 4,
 "nbformat_minor": 0
}
