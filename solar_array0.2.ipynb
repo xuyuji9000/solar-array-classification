{
 "cells": [
  {
   "cell_type": "code",
   "execution_count": 15,
   "metadata": {
    "collapsed": false,
    "scrolled": true
   },
   "outputs": [
    {
     "name": "stdout",
     "output_type": "stream",
     "text": [
      "Automatically created module for IPython interactive environment\n"
     ]
    }
   ],
   "source": [
    "# use k-means + extract_patches_2d extract features\n",
    "# how to use the extracted features?\n",
    "print(__doc__)\n",
    "%matplotlib inline\n",
    "\n",
    "import numpy as np\n",
    "import glob\n",
    "import re\n",
    "from scipy import ndimage\n",
    "from sklearn.feature_extraction.image import extract_patches_2d\n",
    "from sklearn.cluster import MiniBatchKMeans\n",
    "import matplotlib.pyplot as plt\n"
   ]
  },
  {
   "cell_type": "code",
   "execution_count": 16,
   "metadata": {
    "collapsed": false
   },
   "outputs": [
    {
     "name": "stdout",
     "output_type": "stream",
     "text": [
      "(101, 101)\n"
     ]
    }
   ],
   "source": [
    "# get images\n",
    "train_images_path = \"./data/train_images/*.tif\"\n",
    "test_images_path = \"./data/test_images/*.tif\"\n",
    "def get_pic(pic_path):\n",
    "    \n",
    "    pic_paths = []\n",
    "    for pic in glob.glob(pic_path):\n",
    "        pic_paths.append(pic)\n",
    "        \n",
    "    def sort_path(path1, path2):\n",
    "        pattern = re.compile(r\"\\d+\")\n",
    "        num1 = int(pattern.search(path1).group())\n",
    "        num2 = int(pattern.search(path2).group())\n",
    "        return cmp(num1, num2)\n",
    "    \n",
    "    pic_paths.sort(sort_path)\n",
    "    \n",
    "    pics = []\n",
    "    for pic in pic_paths:\n",
    "        temp = ndimage.imread(pic,mode='L')\n",
    "        pics.append(temp)\n",
    "    pics = np.array(pics)\n",
    "    return pics\n",
    "\n",
    "train_images = get_pic(train_images_path)\n",
    "test_images = get_pic(test_images_path)\n",
    "\n",
    "print(train_images[0].shape)"
   ]
  },
  {
   "cell_type": "code",
   "execution_count": 17,
   "metadata": {
    "collapsed": false
   },
   "outputs": [
    {
     "name": "stdout",
     "output_type": "stream",
     "text": [
      "Partial fit of  100 out of 1200\n",
      "Partial fit of  200 out of 1200\n",
      "Partial fit of  300 out of 1200\n",
      "Partial fit of  400 out of 1200\n",
      "Partial fit of  500 out of 1200\n",
      "Partial fit of  600 out of 1200\n",
      "Partial fit of  700 out of 1200\n",
      "Partial fit of  800 out of 1200\n",
      "Partial fit of  900 out of 1200\n",
      "Partial fit of 1000 out of 1200\n",
      "Partial fit of 1100 out of 1200\n",
      "Partial fit of 1200 out of 1200\n"
     ]
    }
   ],
   "source": [
    "rng = np.random.RandomState(0)\n",
    "size = 4\n",
    "\n",
    "kmeans = MiniBatchKMeans(n_clusters=size*size, random_state=rng, verbose=True)\n",
    "\n",
    "patch_size = (20, 20)\n",
    "pic_shape = train_images[0].shape\n",
    "\n",
    "buffer = []\n",
    "index = 0\n",
    "for _ in range(6):\n",
    "    for img in train_images:\n",
    "        data = extract_patches_2d(img, patch_size, max_patches=50, random_state=rng)\n",
    "        data = np.reshape(data, (len(data), -1))\n",
    "        buffer.append(data)\n",
    "        index += 1\n",
    "        if index % 10 == 0:\n",
    "            data = np.concatenate(buffer, axis=0)\n",
    "            data = np.subtract(data, np.mean(data, axis=0))\n",
    "            data = np.divide(data, np.std(data, axis=0))\n",
    "            kmeans.partial_fit(data)\n",
    "            buffer = []\n",
    "        if index % 100 == 0:\n",
    "            print('Partial fit of %4i out of %i'\n",
    "                  % (index, 6 * len(train_images)))\n"
   ]
  },
  {
   "cell_type": "code",
   "execution_count": 18,
   "metadata": {
    "collapsed": false
   },
   "outputs": [
    {
     "name": "stdout",
     "output_type": "stream",
     "text": [
      "(16, 400)\n"
     ]
    },
    {
     "data": {
      "image/png": "[encoded data removed]",
      "text/plain": [
       "<matplotlib.figure.Figure at 0x7f57ea75b990>"
      ]
     },
     "metadata": {},
     "output_type": "display_data"
    }
   ],
   "source": [
    "plt.figure(figsize=(4.2, 4))\n",
    "print(kmeans.cluster_centers_.shape)\n",
    "for i, patch in enumerate(kmeans.cluster_centers_):\n",
    "    plt.subplot(size, size, i + 1)\n",
    "#     print(len(patch))\n",
    "#     print(patch_size)\n",
    "#     print(patch.reshape(patch_size))\n",
    "    plt.imshow(patch.reshape(patch_size), cmap=plt.cm.gray,\n",
    "               interpolation='nearest')\n",
    "    plt.xticks(())\n",
    "    plt.yticks(())\n",
    "\n",
    "plt.show()"
   ]
  }
 ],
 "metadata": {
  "kernelspec": {
   "display_name": "Python 2",
   "language": "python",
   "name": "python2"
  },
  "language_info": {
   "codemirror_mode": {
    "name": "ipython",
    "version": 2
   },
   "file_extension": ".py",
   "mimetype": "text/x-python",
   "name": "python",
   "nbconvert_exporter": "python",
   "pygments_lexer": "ipython2",
   "version": "2.7.6"
  }
 },
 "nbformat": 4,
 "nbformat_minor": 0
}
