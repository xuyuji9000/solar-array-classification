{
 "cells": [
  {
   "cell_type": "code",
   "execution_count": 7,
   "metadata": {
    "collapsed": false
   },
   "outputs": [
    {
     "name": "stdout",
     "output_type": "stream",
     "text": [
      "Automatically created module for IPython interactive environment\n"
     ]
    }
   ],
   "source": [
    "%matplotlib inline\n",
    "print(__doc__)\n",
    "from PIL import Image\n",
    "import glob\n",
    "import re\n",
    "import os\n",
    "import csv"
   ]
  },
  {
   "cell_type": "code",
   "execution_count": 27,
   "metadata": {
    "collapsed": false
   },
   "outputs": [],
   "source": [
    "class Rotation:\n",
    "    \"\"\"rotate the images to get 4 times images\"\"\"\n",
    "    base_data_path = \"./data_four\"    # base data path\n",
    "    X_rotate_path = \"./data_four/rotate_images/\"    # rotated images path\n",
    "    y_rotate_path = \"./data_four/train_rotate_solution.csv\"    # rotated solution path\n",
    "    \n",
    "    X_path = \"./data_four/train_images/*.tif\"   # training pic path\n",
    "    \n",
    "    y_path = \"./data_four/train_solution.csv\"    # solution path\n",
    "    \n",
    "    \n",
    "    def get_pic_paths(self, X_path):\n",
    "        \"\"\"\n",
    "            get pic paths of the target path\n",
    "        \"\"\"\n",
    "        pic_paths = []  # pic path\n",
    "        for pic in glob.glob(X_path):\n",
    "            pic_paths.append(pic)\n",
    "            \n",
    "        pic_paths.sort(self.sort_path)\n",
    "        return pic_paths\n",
    "    \n",
    "    \n",
    "    \n",
    "    def sort_path(self, path1, path2):\n",
    "        \"\"\"sort the pic paths, make them in increase queue\"\"\"\n",
    "        num1 = self.get_number(path1)\n",
    "        num2 = self.get_number(path2)\n",
    "        return cmp(num1, num2)\n",
    "\n",
    "    def roate(self, X_rotate_path, X_path, y_rotate_path, y_path):\n",
    "        self.rotate_image(X_rotate_path, X_path)\n",
    "        self.add_rotate_solution(y_rotate_path, y_path)\n",
    "        \n",
    "    def rotate_image(self, X_rotate_path, X_path):\n",
    "        \"\"\"\n",
    "            rotate the pics and store \n",
    "        \"\"\"\n",
    "        if(not os.path.exists(X_rotate_path)):\n",
    "            os.makedirs(X_rotate_path)\n",
    "        \n",
    "        pic_paths = self.get_pic_paths(X_path)\n",
    "        rotate_folder = X_rotate_path.split('/')[2]\n",
    "        for path in pic_paths:\n",
    "            img = Image.open(path)\n",
    "            path = path.split('/')\n",
    "            path[2] = rotate_folder\n",
    "            path = '/'.join(path)\n",
    "            \n",
    "            number = int(self.get_number(path))\n",
    "            \n",
    "            temp_rotate_path = self.change_number(path, number*4-3)\n",
    "            img = img.rotate(360)\n",
    "            img.save(temp_rotate_path)\n",
    "            \n",
    "            temp_rotate_path = self.change_number(path, number*4-2)\n",
    "            img = img.rotate(90)\n",
    "            img.save(temp_rotate_path)\n",
    "            \n",
    "            temp_rotate_path = self.change_number(path, number*4-1)\n",
    "            img = img.rotate(90)\n",
    "            img.save(temp_rotate_path)\n",
    "            \n",
    "            temp_rotate_path = self.change_number(path, number*4)\n",
    "            img = img.rotate(90)\n",
    "            img.save(temp_rotate_path)\n",
    "            \n",
    "    def add_rotate_solution(self, y_rotate_path, y_path):\n",
    "        \"\"\"add rotated pics' responding solution\"\"\"\n",
    "        csvfile = open(y_path)\n",
    "        reader = csv.reader(csvfile)\n",
    "        headers = reader.next()\n",
    "        print(headers)\n",
    "#         temp = zip(headers, reader.next())\n",
    "        \n",
    "        rotated_list  = []\n",
    "        for row in reader:\n",
    "            index = int(row[0])\n",
    "            for i in range(index*4 - 3, index*4 + 1):\n",
    "                rotated_row = [i, row[1]]\n",
    "                rotated_list.append(rotated_row)\n",
    "    \n",
    "        with open(y_rotate_path, 'w+') as rotated_csvfile:\n",
    "            writer = csv.DictWriter(rotated_csvfile, fieldnames=headers)\n",
    "            writer.writeheader()\n",
    "            for row in rotated_list:\n",
    "                temp = dict(zip(headers, row))\n",
    "                writer.writerow(temp)\n",
    "                \n",
    "\n",
    "                \n",
    "        \n",
    "     \n",
    "    def get_number(self, path):\n",
    "        \"\"\"get number from a string\"\"\"\n",
    "        pattern = re.compile(r\"\\d+\")\n",
    "        num = int(pattern.search(path).group())\n",
    "        return num\n",
    "    \n",
    "    def change_number(self, path, number):\n",
    "        \"\"\"change the number inside the string\"\"\"\n",
    "        return re.sub(r'\\d+', str(number), path, )\n",
    "    "
   ]
  },
  {
   "cell_type": "code",
   "execution_count": 28,
   "metadata": {
    "collapsed": false
   },
   "outputs": [
    {
     "name": "stdout",
     "output_type": "stream",
     "text": [
      "['id', 'class']\n"
     ]
    }
   ],
   "source": [
    "rt = Rotation()\n",
    "\n",
    "# execute thi command to roate images \n",
    "# and add corresponding solutions\n",
    "# rt.ratate()\n"
   ]
  }
 ],
 "metadata": {
  "kernelspec": {
   "display_name": "Python 2",
   "language": "python",
   "name": "python2"
  },
  "language_info": {
   "codemirror_mode": {
    "name": "ipython",
    "version": 2
   },
   "file_extension": ".py",
   "mimetype": "text/x-python",
   "name": "python",
   "nbconvert_exporter": "python",
   "pygments_lexer": "ipython2",
   "version": "2.7.6"
  }
 },
 "nbformat": 4,
 "nbformat_minor": 0
}
