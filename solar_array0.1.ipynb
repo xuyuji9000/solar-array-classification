{
 "cells": [
  {
   "cell_type": "code",
   "execution_count": 2,
   "metadata": {
    "collapsed": false
   },
   "outputs": [],
   "source": [
    "# train classifier from raw data\n",
    "from scipy import ndimage\n",
    "import numpy as np\n",
    "import glob\n",
    "import csv\n",
    "import re\n",
    "from sklearn import svm, metrics"
   ]
  },
  {
   "cell_type": "code",
   "execution_count": 3,
   "metadata": {
    "collapsed": false
   },
   "outputs": [
    {
     "name": "stdout",
     "output_type": "stream",
     "text": [
      "200\n"
     ]
    },
    {
     "ename": "ImportError",
     "evalue": "Could not import the Python Imaging Library (PIL) required to load image files.  Please refer to http://pypi.python.org/pypi/PIL/ for installation instructions.",
     "output_type": "error",
     "traceback": [
      "\u001b[1;31m---------------------------------------------------------------------------\u001b[0m",
      "\u001b[1;31mImportError\u001b[0m                               Traceback (most recent call last)",
      "\u001b[1;32m<ipython-input-3-11b0557dd7f5>\u001b[0m in \u001b[0;36m<module>\u001b[1;34m()\u001b[0m\n\u001b[0;32m     33\u001b[0m     \u001b[1;32mreturn\u001b[0m \u001b[0mrow_pics\u001b[0m\u001b[1;33m\u001b[0m\u001b[0m\n\u001b[0;32m     34\u001b[0m \u001b[1;31m# get row pic list\u001b[0m\u001b[1;33m\u001b[0m\u001b[1;33m\u001b[0m\u001b[0m\n\u001b[1;32m---> 35\u001b[1;33m \u001b[0mtrain_images_row\u001b[0m \u001b[1;33m=\u001b[0m \u001b[0mget_row_pic\u001b[0m\u001b[1;33m(\u001b[0m\u001b[0mtrain_images_path\u001b[0m\u001b[1;33m)\u001b[0m\u001b[1;33m\u001b[0m\u001b[0m\n\u001b[0m\u001b[0;32m     36\u001b[0m \u001b[0mtest_images_row\u001b[0m \u001b[1;33m=\u001b[0m \u001b[0mget_row_pic\u001b[0m\u001b[1;33m(\u001b[0m\u001b[0mtest_images_path\u001b[0m\u001b[1;33m)\u001b[0m\u001b[1;33m\u001b[0m\u001b[0m\n\u001b[0;32m     37\u001b[0m \u001b[1;32mprint\u001b[0m\u001b[1;33m(\u001b[0m\u001b[0mtrain_images_row\u001b[0m\u001b[1;33m.\u001b[0m\u001b[0mshape\u001b[0m\u001b[1;33m)\u001b[0m\u001b[1;33m\u001b[0m\u001b[0m\n",
      "\u001b[1;32m<ipython-input-3-11b0557dd7f5>\u001b[0m in \u001b[0;36mget_row_pic\u001b[1;34m(pic_path)\u001b[0m\n\u001b[0;32m     23\u001b[0m     \u001b[0mpics\u001b[0m \u001b[1;33m=\u001b[0m \u001b[1;33m[\u001b[0m\u001b[1;33m]\u001b[0m\u001b[1;33m\u001b[0m\u001b[0m\n\u001b[0;32m     24\u001b[0m     \u001b[1;32mfor\u001b[0m \u001b[0mpic\u001b[0m \u001b[1;32min\u001b[0m \u001b[0mpic_paths\u001b[0m\u001b[1;33m:\u001b[0m\u001b[1;33m\u001b[0m\u001b[0m\n\u001b[1;32m---> 25\u001b[1;33m         \u001b[0mtemp\u001b[0m \u001b[1;33m=\u001b[0m \u001b[0mndimage\u001b[0m\u001b[1;33m.\u001b[0m\u001b[0mimread\u001b[0m\u001b[1;33m(\u001b[0m\u001b[0mpic\u001b[0m\u001b[1;33m)\u001b[0m\u001b[1;33m\u001b[0m\u001b[0m\n\u001b[0m\u001b[0;32m     26\u001b[0m         \u001b[0mpics\u001b[0m\u001b[1;33m.\u001b[0m\u001b[0mappend\u001b[0m\u001b[1;33m(\u001b[0m\u001b[0mtemp\u001b[0m\u001b[1;33m)\u001b[0m\u001b[1;33m\u001b[0m\u001b[0m\n\u001b[0;32m     27\u001b[0m \u001b[1;33m\u001b[0m\u001b[0m\n",
      "\u001b[1;32m/opt/ds/local/lib/python2.7/site-packages/scipy/ndimage/io.pyc\u001b[0m in \u001b[0;36mimread\u001b[1;34m(fname, flatten, mode)\u001b[0m\n\u001b[0;32m     36\u001b[0m         \u001b[1;32mfrom\u001b[0m \u001b[0mPIL\u001b[0m \u001b[1;32mimport\u001b[0m \u001b[0mImage\u001b[0m\u001b[1;33m\u001b[0m\u001b[0m\n\u001b[0;32m     37\u001b[0m     \u001b[1;32mexcept\u001b[0m \u001b[0mImportError\u001b[0m\u001b[1;33m:\u001b[0m\u001b[1;33m\u001b[0m\u001b[0m\n\u001b[1;32m---> 38\u001b[1;33m         raise ImportError(\"Could not import the Python Imaging Library (PIL)\"\n\u001b[0m\u001b[0;32m     39\u001b[0m                           \u001b[1;34m\" required to load image files.  Please refer to\"\u001b[0m\u001b[1;33m\u001b[0m\u001b[0m\n\u001b[0;32m     40\u001b[0m                           \u001b[1;34m\" http://pypi.python.org/pypi/PIL/ for installation\"\u001b[0m\u001b[1;33m\u001b[0m\u001b[0m\n",
      "\u001b[1;31mImportError\u001b[0m: Could not import the Python Imaging Library (PIL) required to load image files.  Please refer to http://pypi.python.org/pypi/PIL/ for installation instructions."
     ]
    }
   ],
   "source": [
    "# pic pathes\n",
    "train_images_path = \"./data/train_images/*.tif\"\n",
    "test_images_path = \"./data/test_images/*.tif\"\n",
    "def get_row_pic(pic_path):\n",
    "    # pic path\n",
    "    pic_paths = []\n",
    "    for pic in glob.glob(pic_path):\n",
    "    #     temp = ndimage.imread(pic)\n",
    "        pic_paths.append(pic)\n",
    "\n",
    "    # sort pic path\n",
    "    def sort_path(path1, path2):\n",
    "        pattern = re.compile(r\"\\d+\")\n",
    "        num1 = int(pattern.search(path1).group())\n",
    "        num2 = int(pattern.search(path2).group())\n",
    "        return cmp(num1, num2)\n",
    "\n",
    "    pic_paths.sort(sort_path)\n",
    "    \n",
    "    print(len(pic_paths))\n",
    "\n",
    "    # read raw pic data\n",
    "    pics = []\n",
    "    for pic in pic_paths:\n",
    "        temp = ndimage.imread(pic)\n",
    "        pics.append(temp)\n",
    "\n",
    "    # convert list to numpy array\n",
    "    pics = np.array(pics)\n",
    "    nsamples = len(pics)\n",
    "    # pic serialized data\n",
    "    row_pics = pics.reshape((nsamples, -1))\n",
    "    return row_pics\n",
    "# get row pic list\n",
    "train_images_row = get_row_pic(train_images_path)\n",
    "test_images_row = get_row_pic(test_images_path)\n",
    "print(train_images_row.shape)\n",
    "print(type(train_images_row))"
   ]
  },
  {
   "cell_type": "code",
   "execution_count": 8,
   "metadata": {
    "collapsed": false,
    "scrolled": true
   },
   "outputs": [],
   "source": [
    "# solar array exitense list\n",
    "train_solution_path = \"./data/train_solution.csv\"\n",
    "\n",
    "def read_solution(csv_path):\n",
    "    csvfile = open(csv_path)\n",
    "    reader = csv.reader(csvfile)\n",
    "    headers = reader.next()\n",
    "\n",
    "    column = {}\n",
    "    for h in headers:\n",
    "        column[h] = []\n",
    "\n",
    "\n",
    "    for row in reader:\n",
    "        for h, v in zip(headers, row):\n",
    "            column[h].append(v)\n",
    "    \n",
    "    for k,v in column.items():\n",
    "        column[k] = np.array(v)\n",
    "    return column\n",
    "\n",
    "train_column = read_solution(train_solution_path)\n",
    "# print(len(train_column['class']))\n",
    "# print(train_column['class'].shape)\n",
    "# print(type(train_column['class']))"
   ]
  },
  {
   "cell_type": "code",
   "execution_count": 9,
   "metadata": {
    "collapsed": false
   },
   "outputs": [],
   "source": [
    "# train\n",
    "classifier = svm.SVC(gamma = 0.001)\n",
    "classifier.fit(train_images_row, train_column['class'])\n",
    "\n",
    "# predict\n",
    "predicted = classifier.predict(test_images_row)\n",
    "\n",
    "\n",
    "# export prediction\n",
    "test_ids = range(201, 201+130)\n",
    "\n",
    "csvfile = open(train_solution_path)\n",
    "reader = csv.reader(csvfile)\n",
    "headers = reader.next()\n"
   ]
  },
  {
   "cell_type": "code",
   "execution_count": 10,
   "metadata": {
    "collapsed": false,
    "scrolled": true
   },
   "outputs": [],
   "source": [
    "# write into csv\n",
    "f = open(\"./data/test_solution.csv\", \"w\")\n",
    "writer = csv.writer(f)\n",
    "\n",
    "writer.writerow((\"id\", \"class\"))\n",
    "# range(201, 201+len(predicted))\n",
    "for i in range(len(predicted)):\n",
    "    writer.writerow((201+i, predicted[i]))\n",
    "f.close()"
   ]
  }
 ],
 "metadata": {
  "kernelspec": {
   "display_name": "Python 2",
   "language": "python",
   "name": "python2"
  },
  "language_info": {
   "codemirror_mode": {
    "name": "ipython",
    "version": 2
   },
   "file_extension": ".py",
   "mimetype": "text/x-python",
   "name": "python",
   "nbconvert_exporter": "python",
   "pygments_lexer": "ipython2",
   "version": "2.7.6"
  }
 },
 "nbformat": 4,
 "nbformat_minor": 0
}
