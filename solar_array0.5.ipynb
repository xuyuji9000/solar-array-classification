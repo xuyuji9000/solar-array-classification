{
 "cells": [
  {
   "cell_type": "code",
   "execution_count": 13,
   "metadata": {
    "collapsed": false
   },
   "outputs": [
    {
     "name": "stdout",
     "output_type": "stream",
     "text": [
      "Automatically created module for IPython interactive environment\n"
     ]
    }
   ],
   "source": [
    "%matplotlib inline\n",
    "print(__doc__)\n",
    "import glob, re, csv\n",
    "import numpy as np\n",
    "from scipy import ndimage\n",
    "from sklearn.grid_search import GridSearchCV\n",
    "from sklearn.cross_validation import train_test_split\n",
    "from sklearn.svm import SVC\n",
    "from sklearn.metrics import classification_report\n",
    "from sklearn.metrics import confusion_matrix\n",
    "from sklearn.decomposition import RandomizedPCA"
   ]
  },
  {
   "cell_type": "code",
   "execution_count": 14,
   "metadata": {
    "collapsed": true
   },
   "outputs": [],
   "source": [
    "class SolarArray:\n",
    "    \"\"\"Solar Array detection based on rotated images( quadrupled examples )\"\"\"\n",
    "    \n",
    "    X_path = \"./data/rotate_images/*.tif\"   # training pic path\n",
    "    target_path = \"./data/test_images/*.tif\"    # testing pic path\n",
    "    y_path = \"./data/train_rotate_solution.csv\"    # training solution path\n",
    "    export_path = \"./data/solar_array0.5.csv\"    # path to export \n",
    "    \n",
    "    X = \"\"    # training pic in row\n",
    "    X_target = \"\"    # testing pic in row\n",
    "    y = \"\"    # traing pic solution\n",
    "\n",
    "    \n",
    "    def __init__(self):\n",
    "        \"\"\"init the class\"\"\"\n",
    "#         self.X = get_row_pic(self.X_path)\n",
    "#         self.X_target = get_row_pic(self.target_path)\n",
    "#         self.y = read_solution(self.y_path)\n",
    "    def read_resource(self):\n",
    "        self.get_X();\n",
    "        self.get_X_target();\n",
    "        self.get_y();\n",
    "    \n",
    "    def get_X(self):\n",
    "        self.X = self.get_row_pic(self.X_path)\n",
    "    \n",
    "    def get_X_target(self):\n",
    "        self.X_target = self.get_row_pic(self.target_path)\n",
    "    \n",
    "    def get_y(self):\n",
    "        self.y = self.read_solution(self.y_path)\n",
    "    \n",
    "    def get_row_pic(self, pic_path, gray=True):\n",
    "        \"\"\"get rowed pic data\"\"\"\n",
    "        pic_paths = []  # pic path\n",
    "        for pic in glob.glob(pic_path):\n",
    "            pic_paths.append(pic)\n",
    "            \n",
    "        pic_paths.sort(self.sort_path)\n",
    "\n",
    "        pics = []     # read raw pic data\n",
    "        for pic in pic_paths:\n",
    "            if gray:\n",
    "                temp = ndimage.imread(pic, mode=\"L\")\n",
    "            else:\n",
    "                temp = ndimage.imread(pic)\n",
    "            \n",
    "            pics.append(temp)\n",
    "\n",
    "        pics = np.array(pics)    # convert list to numpy array\n",
    "        nsamples = len(pics)\n",
    "\n",
    "        row_pics = pics.reshape((nsamples, -1))    # pic serialized data\n",
    "        return row_pics\n",
    "    \n",
    "    def sort_path(self, path1, path2):\n",
    "        \"\"\"sort the pic paths, make them in increase queue\"\"\"\n",
    "        pattern = re.compile(r\"\\d+\")\n",
    "        num1 = int(pattern.search(path1).group())\n",
    "        num2 = int(pattern.search(path2).group())\n",
    "        return cmp(num1, num2)\n",
    "    \n",
    "    def read_solution(self, csv_path):\n",
    "        \"\"\"read csv file into dict\"\"\"\n",
    "        csvfile = open(csv_path)\n",
    "        reader = csv.reader(csvfile)\n",
    "        headers = reader.next()\n",
    "\n",
    "        column = {}\n",
    "        for h in headers:\n",
    "            column[h] = []\n",
    "\n",
    "\n",
    "        for row in reader:\n",
    "            for h, v in zip(headers, row):\n",
    "                column[h].append(v)\n",
    "\n",
    "        for k,v in column.items():\n",
    "            column[k] = np.array(v)\n",
    "        result = column['class']\n",
    "        return result\n",
    "    \n",
    "    def write_csv(self, prediction):\n",
    "        \"\"\"write the prediction into csv file,\n",
    "            for KAGGLE SUBMISSION\n",
    "        \"\"\"\n",
    "        # write into csv\n",
    "        f = open(self.export_path, \"w\")\n",
    "        writer = csv.writer(f)\n",
    "\n",
    "        writer.writerow((\"id\", \"class\"))\n",
    "        for i in range(len(prediction)):\n",
    "            writer.writerow((201+i, prediction[i]))\n",
    "        f.close()\n",
    "sa = SolarArray()\n",
    "sa.read_resource()"
   ]
  },
  {
   "cell_type": "code",
   "execution_count": 15,
   "metadata": {
    "collapsed": false
   },
   "outputs": [
    {
     "name": "stdout",
     "output_type": "stream",
     "text": [
      "             precision    recall  f1-score   support\n",
      "\n",
      "          0       0.55      0.78      0.65       105\n",
      "          1       0.56      0.31      0.39        95\n",
      "\n",
      "avg / total       0.56      0.56      0.53       200\n",
      "\n",
      "[[82 23]\n",
      " [66 29]]\n",
      "(130,)\n"
     ]
    }
   ],
   "source": [
    "# train\n",
    "X_train, X_test, y_train, y_test = train_test_split(\n",
    "    sa.X, sa.y, test_size=0.25, random_state=42)\n",
    "\n",
    "# init PCA\n",
    "n_components = 50\n",
    "pca = RandomizedPCA(n_components=n_components, whiten=True).fit(X_train)\n",
    "\n",
    "X_train_pca = pca.transform(X_train)\n",
    "X_test_pca = pca.transform(X_test)\n",
    "X_target_pca = pca.transform(sa.X_target)\n",
    "# print(X_target_pca.shape)\n",
    "\n",
    "# train SVM model\n",
    "param_grid = {'C': [1e3, 5e3, 1e4, 5e4, 1e5],\n",
    "              'gamma': [0.0001, 0.0005, 0.001, 0.005, 0.01, 0.1], }\n",
    "clf = GridSearchCV(SVC(kernel='rbf', class_weight='balanced'), param_grid)\n",
    "clf = clf.fit(X_train_pca, y_train)\n",
    "test_prediction = clf.predict(X_test_pca)\n",
    "target_prediction = clf.predict(X_target_pca)\n",
    "\n",
    "print(classification_report(y_test, test_prediction))\n",
    "print(confusion_matrix(y_test, test_prediction))\n",
    "\n",
    "\n",
    "print(target_prediction.shape)\n",
    "# write to csv\n",
    "sa.write_csv(target_prediction)"
   ]
  }
 ],
 "metadata": {
  "kernelspec": {
   "display_name": "Python 2",
   "language": "python",
   "name": "python2"
  },
  "language_info": {
   "codemirror_mode": {
    "name": "ipython",
    "version": 2
   },
   "file_extension": ".py",
   "mimetype": "text/x-python",
   "name": "python",
   "nbconvert_exporter": "python",
   "pygments_lexer": "ipython2",
   "version": "2.7.6"
  }
 },
 "nbformat": 4,
 "nbformat_minor": 0
}
